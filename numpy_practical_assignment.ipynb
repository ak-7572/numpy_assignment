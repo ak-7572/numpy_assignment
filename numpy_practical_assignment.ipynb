{
  "nbformat": 4,
  "nbformat_minor": 0,
  "metadata": {
    "colab": {
      "provenance": []
    },
    "kernelspec": {
      "name": "python3",
      "display_name": "Python 3"
    },
    "language_info": {
      "name": "python"
    }
  },
  "cells": [
    {
      "cell_type": "code",
      "source": [
        "# Q1. Create a 3x3 NumPy array with random integers between 1 and 100. Then, interchange its rows and columns.\n",
        "\n",
        "import numpy as np\n",
        "a = np.random.randint(1, 100, size = (3,3))\n",
        "a"
      ],
      "metadata": {
        "id": "TZVHQQPszbEf",
        "colab": {
          "base_uri": "https://localhost:8080/"
        },
        "outputId": "9e6d1bb0-0c94-4b27-9fe0-f887a3d63af0"
      },
      "execution_count": null,
      "outputs": [
        {
          "output_type": "execute_result",
          "data": {
            "text/plain": [
              "array([[97, 26,  1],\n",
              "       [91, 37, 93],\n",
              "       [11,  6,  9]])"
            ]
          },
          "metadata": {},
          "execution_count": 6
        }
      ]
    },
    {
      "cell_type": "code",
      "source": [
        "a.T"
      ],
      "metadata": {
        "colab": {
          "base_uri": "https://localhost:8080/"
        },
        "id": "GRvY0NrxGKIc",
        "outputId": "98da98c7-26f9-4458-b1bf-cd65298c1acb"
      },
      "execution_count": null,
      "outputs": [
        {
          "output_type": "execute_result",
          "data": {
            "text/plain": [
              "array([[97, 91, 11],\n",
              "       [26, 37,  6],\n",
              "       [ 1, 93,  9]])"
            ]
          },
          "metadata": {},
          "execution_count": 7
        }
      ]
    },
    {
      "cell_type": "code",
      "source": [
        "# Q2. Generate a 1D NumPy array with 10 elements. Reshape it into a 2x5 array, then into a 5x2 array.\n",
        "\n",
        "b = np.random.randint(1, 10, size = (10))\n",
        "b"
      ],
      "metadata": {
        "colab": {
          "base_uri": "https://localhost:8080/"
        },
        "id": "mxoHSPq7G0U_",
        "outputId": "b68e4e75-a55e-4cce-b454-04e3628f9670"
      },
      "execution_count": null,
      "outputs": [
        {
          "output_type": "execute_result",
          "data": {
            "text/plain": [
              "array([1, 2, 3, 2, 2, 1, 7, 9, 4, 6])"
            ]
          },
          "metadata": {},
          "execution_count": 10
        }
      ]
    },
    {
      "cell_type": "code",
      "source": [
        "b.reshape(2, 5)"
      ],
      "metadata": {
        "colab": {
          "base_uri": "https://localhost:8080/"
        },
        "id": "aV0aoASvLi5h",
        "outputId": "9f1982f6-75a9-4d13-f14e-54e258a78720"
      },
      "execution_count": null,
      "outputs": [
        {
          "output_type": "execute_result",
          "data": {
            "text/plain": [
              "array([[1, 2, 3, 2, 2],\n",
              "       [1, 7, 9, 4, 6]])"
            ]
          },
          "metadata": {},
          "execution_count": 11
        }
      ]
    },
    {
      "cell_type": "code",
      "source": [
        "b.reshape(5,2)"
      ],
      "metadata": {
        "colab": {
          "base_uri": "https://localhost:8080/"
        },
        "id": "kENipizYML2v",
        "outputId": "a57c95a3-7d8c-4015-8f2a-886ebe8f52cf"
      },
      "execution_count": null,
      "outputs": [
        {
          "output_type": "execute_result",
          "data": {
            "text/plain": [
              "array([[1, 2],\n",
              "       [3, 2],\n",
              "       [2, 1],\n",
              "       [7, 9],\n",
              "       [4, 6]])"
            ]
          },
          "metadata": {},
          "execution_count": 12
        }
      ]
    },
    {
      "cell_type": "code",
      "source": [
        "# Q3. Create a 4x4 NumPy array with random float values. Add a border of zeros around it, resulting in a 6x6 array.\n",
        "\n",
        "import numpy as np\n",
        "c = np.random.rand(4,4)\n",
        "c"
      ],
      "metadata": {
        "colab": {
          "base_uri": "https://localhost:8080/"
        },
        "id": "ztWSgs9yMP9G",
        "outputId": "efd22bfc-5a10-4e52-c88c-5366f92c1867"
      },
      "execution_count": 4,
      "outputs": [
        {
          "output_type": "execute_result",
          "data": {
            "text/plain": [
              "array([[0.69140401, 0.73265314, 0.63452033, 0.72096341],\n",
              "       [0.439102  , 0.76628948, 0.4992672 , 0.95788818],\n",
              "       [0.69167811, 0.69421189, 0.40220397, 0.14609512],\n",
              "       [0.07912368, 0.5315439 , 0.05615533, 0.18386308]])"
            ]
          },
          "metadata": {},
          "execution_count": 4
        }
      ]
    },
    {
      "cell_type": "code",
      "source": [
        "bordered_array = np.pad(c, pad_width=1, mode='constant', constant_values=0)\n",
        "\n",
        "print(bordered_array)"
      ],
      "metadata": {
        "colab": {
          "base_uri": "https://localhost:8080/"
        },
        "id": "_eBkKPZzOkGe",
        "outputId": "2ef46465-2417-458d-97a5-a942fad68236"
      },
      "execution_count": 5,
      "outputs": [
        {
          "output_type": "stream",
          "name": "stdout",
          "text": [
            "[[0.         0.         0.         0.         0.         0.        ]\n",
            " [0.         0.69140401 0.73265314 0.63452033 0.72096341 0.        ]\n",
            " [0.         0.439102   0.76628948 0.4992672  0.95788818 0.        ]\n",
            " [0.         0.69167811 0.69421189 0.40220397 0.14609512 0.        ]\n",
            " [0.         0.07912368 0.5315439  0.05615533 0.18386308 0.        ]\n",
            " [0.         0.         0.         0.         0.         0.        ]]\n"
          ]
        }
      ]
    },
    {
      "cell_type": "code",
      "source": [
        "# Q4. Using NumPy, create an array of integers from 10 to 60 with a step of 5.\n",
        "\n",
        "import numpy as np\n",
        "d = np.arange(10, 61, 5)\n",
        "print(d)"
      ],
      "metadata": {
        "id": "zhHJpZngOlKB",
        "colab": {
          "base_uri": "https://localhost:8080/"
        },
        "outputId": "e43ab837-e5e9-42fa-ce51-cce34f13a492"
      },
      "execution_count": 6,
      "outputs": [
        {
          "output_type": "stream",
          "name": "stdout",
          "text": [
            "[10 15 20 25 30 35 40 45 50 55 60]\n"
          ]
        }
      ]
    },
    {
      "cell_type": "code",
      "source": [
        "# Q5. Create a NumPy array of strings ['python', 'numpy', 'pandas']. Apply different case transformations (uppercase, lowercase, title case, etc.) to each element.\n",
        "\n",
        "import numpy as np\n",
        "\n",
        "array = np.array(['python', 'numpy', 'pandas'])\n",
        "\n",
        "uppercase = np.char.upper(array)\n",
        "lowercase = np.char.lower(array)\n",
        "titlecase = np.char.title(array)\n",
        "\n",
        "print(\"Uppercase:\", uppercase)\n",
        "print(\"Lowercase:\", lowercase)\n",
        "print(\"Title Case:\", titlecase)"
      ],
      "metadata": {
        "colab": {
          "base_uri": "https://localhost:8080/"
        },
        "id": "vh_FOy4BwO1q",
        "outputId": "d59216fa-7eba-46fa-d1db-fd1ca7b525d9"
      },
      "execution_count": 7,
      "outputs": [
        {
          "output_type": "stream",
          "name": "stdout",
          "text": [
            "Uppercase: ['PYTHON' 'NUMPY' 'PANDAS']\n",
            "Lowercase: ['python' 'numpy' 'pandas']\n",
            "Title Case: ['Python' 'Numpy' 'Pandas']\n"
          ]
        }
      ]
    },
    {
      "cell_type": "code",
      "source": [
        "# Q6. Generate a NumPy array of words. Insert a space between each character of every word in the array.\n",
        "\n",
        "import numpy as np\n",
        "\n",
        "words = np.array(['hello', 'i', 'am', 'Aarti'])\n",
        "\n",
        "spaced_words = np.char.join(' ', words)\n",
        "\n",
        "print(spaced_words)"
      ],
      "metadata": {
        "colab": {
          "base_uri": "https://localhost:8080/"
        },
        "id": "6kmCLvgByvG3",
        "outputId": "9cbf2097-93d9-4f40-8030-e8ff19200882"
      },
      "execution_count": 8,
      "outputs": [
        {
          "output_type": "stream",
          "name": "stdout",
          "text": [
            "['h e l l o' 'i' 'a m' 'A a r t i']\n"
          ]
        }
      ]
    },
    {
      "cell_type": "code",
      "source": [
        "# Q7. Create two 2D NumPy arrays and perform element-wise addition, subtraction, multiplication, and division.\n",
        "\n",
        "import numpy as np\n",
        "\n",
        "array1 = np.array([[1, 2, 3],\n",
        "                   [4, 5, 6]])\n",
        "\n",
        "array2 = np.array([[7, 8, 9],\n",
        "                   [10, 11, 12]])\n",
        "\n",
        "addition = array1 + array2\n",
        "\n",
        "subtraction = array1 - array2\n",
        "\n",
        "multiplication = array1 * array2\n",
        "\n",
        "division = array1 / array2\n",
        "\n",
        "print(\"Array 1:\")\n",
        "print(array1)\n",
        "print(\"\\nArray 2:\")\n",
        "print(array2)\n",
        "print(\"\\nAddition:\")\n",
        "print(addition)\n",
        "print(\"\\nSubtraction:\")\n",
        "print(subtraction)\n",
        "print(\"\\nMultiplication:\")\n",
        "print(multiplication)\n",
        "print(\"\\nDivision:\")\n",
        "print(division)\n"
      ],
      "metadata": {
        "colab": {
          "base_uri": "https://localhost:8080/"
        },
        "id": "Oql_Y2CX1gJc",
        "outputId": "94301344-40d9-4905-dc2c-158a8894b94e"
      },
      "execution_count": 9,
      "outputs": [
        {
          "output_type": "stream",
          "name": "stdout",
          "text": [
            "Array 1:\n",
            "[[1 2 3]\n",
            " [4 5 6]]\n",
            "\n",
            "Array 2:\n",
            "[[ 7  8  9]\n",
            " [10 11 12]]\n",
            "\n",
            "Addition:\n",
            "[[ 8 10 12]\n",
            " [14 16 18]]\n",
            "\n",
            "Subtraction:\n",
            "[[-6 -6 -6]\n",
            " [-6 -6 -6]]\n",
            "\n",
            "Multiplication:\n",
            "[[ 7 16 27]\n",
            " [40 55 72]]\n",
            "\n",
            "Division:\n",
            "[[0.14285714 0.25       0.33333333]\n",
            " [0.4        0.45454545 0.5       ]]\n"
          ]
        }
      ]
    },
    {
      "cell_type": "code",
      "source": [
        "# Q8. Use NumPy to create a 5x5 identity matrix, then extract its diagonal elements.\n",
        "\n",
        "import numpy as np\n",
        "\n",
        "identity_matrix = np.eye(5)\n",
        "\n",
        "diagonal_elements = np.diagonal(identity_matrix)\n",
        "\n",
        "print(\"Identity Matrix:\")\n",
        "print(identity_matrix)\n",
        "print(\"\\nDiagonal Elements:\")\n",
        "print(diagonal_elements)\n"
      ],
      "metadata": {
        "colab": {
          "base_uri": "https://localhost:8080/"
        },
        "id": "hkZjNICJ14Fw",
        "outputId": "55a66118-eade-4149-bfc2-73ed13d36214"
      },
      "execution_count": 10,
      "outputs": [
        {
          "output_type": "stream",
          "name": "stdout",
          "text": [
            "Identity Matrix:\n",
            "[[1. 0. 0. 0. 0.]\n",
            " [0. 1. 0. 0. 0.]\n",
            " [0. 0. 1. 0. 0.]\n",
            " [0. 0. 0. 1. 0.]\n",
            " [0. 0. 0. 0. 1.]]\n",
            "\n",
            "Diagonal Elements:\n",
            "[1. 1. 1. 1. 1.]\n"
          ]
        }
      ]
    },
    {
      "cell_type": "code",
      "source": [
        "# Q9. Generate a NumPy array of 100 random integers between 0 and 1000. Find and display all prime numbers in this array.\n",
        "\n",
        "import numpy as np\n",
        "\n",
        "random_integers = np.random.randint(0, 1001, size=100)\n",
        "\n",
        "def is_prime(n):\n",
        "    if n <= 1:\n",
        "        return False\n",
        "    for i in range(2, int(n**0.5) + 1):\n",
        "        if n % i == 0:\n",
        "            return False\n",
        "    return True\n",
        "\n",
        "prime_numbers = [num for num in random_integers if is_prime(num)]\n",
        "\n",
        "print(\"Random Integers:\")\n",
        "print(random_integers)\n",
        "print(\"\\nPrime Numbers:\")\n",
        "print(prime_numbers)\n"
      ],
      "metadata": {
        "colab": {
          "base_uri": "https://localhost:8080/"
        },
        "id": "_CO13l0L2GvY",
        "outputId": "2703e468-7f9f-452f-c996-efd42b9828df"
      },
      "execution_count": 11,
      "outputs": [
        {
          "output_type": "stream",
          "name": "stdout",
          "text": [
            "Random Integers:\n",
            "[558 288 308 357 475 689 519 558   6 543 872 458 577  99  62 461 695 908\n",
            "  49  19 100 363 529 796 260  30 341 495 359 682 409 602 270 458 337 249\n",
            " 991 984  46 262 249 975 573 163 291 880 400 758 376 865 440 631 133 909\n",
            " 524 486 400 266 853 641 206 252 518 310 478 517 892 314 565 914 292 598\n",
            " 238 878  57  90 212 861 198  85 765 188 579 852 601  70 733 699 499 605\n",
            " 508 769 329 512 374 941 115   4 740 751]\n",
            "\n",
            "Prime Numbers:\n",
            "[577, 461, 19, 359, 409, 337, 991, 163, 631, 853, 641, 601, 733, 499, 769, 941, 751]\n"
          ]
        }
      ]
    },
    {
      "cell_type": "code",
      "source": [
        "# Q10. Create a NumPy array representing daily temperatures for a month. Calculate and display the weekly averages.\n",
        "\n",
        "import numpy as np\n",
        "\n",
        "daily_temperatures = np.random.uniform(low=0, high=100, size=30)\n",
        "\n",
        "weekly_temperatures = daily_temperatures.reshape(5, 6)\n",
        "\n",
        "weekly_averages = np.mean(weekly_temperatures, axis=1)\n",
        "\n",
        "print(\"Daily Temperatures:\")\n",
        "print(daily_temperatures)\n",
        "print(\"\\nWeekly Averages:\")\n",
        "print(weekly_averages)\n"
      ],
      "metadata": {
        "colab": {
          "base_uri": "https://localhost:8080/"
        },
        "id": "pm6lWUia2q9L",
        "outputId": "6206f7af-69da-48cc-c504-1b7524fbad15"
      },
      "execution_count": 15,
      "outputs": [
        {
          "output_type": "stream",
          "name": "stdout",
          "text": [
            "Daily Temperatures:\n",
            "[41.5343424  87.63321346 37.06718786 55.13562191 97.21043302 95.84363044\n",
            " 32.49620113 96.08460707 70.12142121 55.9862263  63.93148233 64.58558406\n",
            " 30.48493753  8.43978982 40.07356877 21.58167239 44.78333717 92.30837685\n",
            " 34.37214044 25.87897279 25.58335502 70.83984074 71.13058337 29.68675435\n",
            " 84.30919769 55.13554796 37.0888294  76.7422083  17.3932979  56.10469509]\n",
            "\n",
            "Weekly Averages:\n",
            "[69.07073818 63.86758702 39.61194709 42.91527445 54.46229606]\n"
          ]
        }
      ]
    },
    {
      "cell_type": "code",
      "source": [],
      "metadata": {
        "id": "5koq60nY26mD"
      },
      "execution_count": null,
      "outputs": []
    }
  ]
}