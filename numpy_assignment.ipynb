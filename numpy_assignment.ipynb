{
  "nbformat": 4,
  "nbformat_minor": 0,
  "metadata": {
    "colab": {
      "provenance": []
    },
    "kernelspec": {
      "name": "python3",
      "display_name": "Python 3"
    },
    "language_info": {
      "name": "python"
    }
  },
  "cells": [
    {
      "cell_type": "code",
      "execution_count": 1,
      "metadata": {
        "id": "z6mZrwCLnqpE"
      },
      "outputs": [],
      "source": [
        "# Q1. . Explain the purpose and advantages of NumPy in scientific computing and data analysis. How does it enhance Python's capabilities for numerical operations?\n",
        "\n",
        "\n",
        "# Purpose of NumPy:\n",
        "# 1. Numerical Operations: NumPy is designed for handling large arrays and matrices of numeric data, making complex mathematical calculations easier.\n",
        "# 2. Scientific Computing: It provides tools for scientific computing, such as linear algebra, Fourier transforms, and random number generation.\n",
        "\n",
        "# Advantages of NumPy:\n",
        "# 1. Speed: NumPy operations are faster than Python’s built-in lists because it uses optimized C code under the hood. This makes it suitable for handling large datasets.\n",
        "# 2. Efficiency: It uses less memory than Python lists, allowing you to work with large amounts of data without using too much memory.\n",
        "# 3. Convenient Functions: NumPy comes with a wide range of functions for mathematical operations, statistical analysis, and more, which simplifies coding.\n",
        "# 4. N-dimensional Arrays: It allows you to work with multi-dimensional arrays easily, making it great for tasks involving matrices or tensors.\n",
        "# 5. Integration: NumPy integrates well with other libraries like SciPy, Pandas, and Matplotlib, creating a powerful ecosystem for data analysis and visualization.\n",
        "\n",
        "# Enhancements to Python’s Capabilities:\n",
        "# 1. Array Operations: Instead of looping through lists, you can perform operations on entire arrays at once, making your code cleaner and faster.\n",
        "# 2. Broadcasting: NumPy can automatically expand smaller arrays to match the shape of larger ones, allowing for flexible arithmetic operations without complex coding"
      ]
    },
    {
      "cell_type": "code",
      "source": [
        "# Q2. Compare and contrast np.mean() and np.average() functions in NumPy. When would you use one over the other?\n",
        "\n",
        "# np.mean() :\n",
        "# Purpose: Calculates the arithmetic mean (average) of the elements in an array.\n",
        "# Simply adds up all the numbers and divides by the count of those numbers.\n",
        "# Use case: Use np.mean() when you want a straightforward average of your data without any additional considerations.\n",
        "\n",
        "# np.average() :\n",
        "\n",
        "# Purpose: Also calculates an average but allows for more flexibility.\n",
        "# In addition to calculating a simple average, it can take an optional parameter called weights. This lets you assign different importance to different values in your dataset.\n",
        "# Use case: Use np.average() when you need a weighted average, meaning some values should count more than others.\n",
        "\n",
        "# When to Use Which:\n",
        "# Use np.mean() for:\n",
        "# Simple calculations where every value is equally important.\n",
        "# Quickly finding the average of an array without extra parameters.\n",
        "\n",
        "# Use np.average() for:\n",
        "# Situations where you need to apply weights to your data points (e.g., if some measurements are more reliable than others).\n",
        "# Any case where the calculation requires a specific method of averaging beyond the basic mean."
      ],
      "metadata": {
        "id": "yjWCsBLZogxU"
      },
      "execution_count": 2,
      "outputs": []
    },
    {
      "cell_type": "code",
      "source": [
        "# Q3. Describe the methods for reversing a NumPy array along different axes. Provide examples for 1D and 2D arrays.\n",
        "\n",
        "# 1D Arrays : To reverse a 1D array, you can use slicing. Here’s an example:\n",
        "\n",
        "import numpy as np\n",
        "array_1d = np.array([1, 2, 3, 4, 5])\n",
        "reversed_1d = array_1d[::-1]\n",
        "print(reversed_1d)"
      ],
      "metadata": {
        "colab": {
          "base_uri": "https://localhost:8080/"
        },
        "id": "dWKwXnhOpTIs",
        "outputId": "a10d45df-b5ea-4002-81cb-cf59ebd49d95"
      },
      "execution_count": 3,
      "outputs": [
        {
          "output_type": "stream",
          "name": "stdout",
          "text": [
            "[5 4 3 2 1]\n"
          ]
        }
      ]
    },
    {
      "cell_type": "code",
      "source": [
        "# 2D Arrays : For 2D arrays, you can reverse along different axes:\n",
        "# Reversing Rows (Vertical Reversal): To reverse the rows of a 2D array, you use slicing on the first axis (axis 0).\n",
        "\n",
        "array_2d = np.array([[1, 2, 3],\n",
        "                     [4, 5, 6],\n",
        "                     [7, 8, 9]])\n",
        "\n",
        "reversed_rows = array_2d[::-1]\n",
        "\n",
        "print(reversed_rows)"
      ],
      "metadata": {
        "colab": {
          "base_uri": "https://localhost:8080/"
        },
        "id": "CjKRDYJ5rrHU",
        "outputId": "2f6e479b-f448-40e6-bac1-eff1288fb0f4"
      },
      "execution_count": 4,
      "outputs": [
        {
          "output_type": "stream",
          "name": "stdout",
          "text": [
            "[[7 8 9]\n",
            " [4 5 6]\n",
            " [1 2 3]]\n"
          ]
        }
      ]
    },
    {
      "cell_type": "code",
      "source": [
        "# Reversing Columns (Horizontal Reversal): To reverse the columns of a 2D array, you use slicing on the second axis (axis 1).\n",
        "\n",
        "reversed_columns = array_2d[:, ::-1]\n",
        "\n",
        "print(reversed_columns)"
      ],
      "metadata": {
        "colab": {
          "base_uri": "https://localhost:8080/"
        },
        "id": "rj58PrIhr8rY",
        "outputId": "144b5af4-2039-42d8-b6cf-a2f1dd23ca3c"
      },
      "execution_count": 5,
      "outputs": [
        {
          "output_type": "stream",
          "name": "stdout",
          "text": [
            "[[3 2 1]\n",
            " [6 5 4]\n",
            " [9 8 7]]\n"
          ]
        }
      ]
    },
    {
      "cell_type": "code",
      "source": [
        "# Q4. How can you determine the data type of elements in a NumPy array? Discuss the importance of data types in memory management and performance.\n",
        "\n",
        "\n",
        "# Checking Data Type\n",
        "\n",
        "# Creating an Array:\n",
        "\n",
        "import numpy as np\n",
        "array = np.array([1, 2, 3])\n",
        "print(array.dtype)"
      ],
      "metadata": {
        "colab": {
          "base_uri": "https://localhost:8080/"
        },
        "id": "k71-2to3sHug",
        "outputId": "f69a80b5-16e9-4305-e784-700c0fd33ac2"
      },
      "execution_count": 6,
      "outputs": [
        {
          "output_type": "stream",
          "name": "stdout",
          "text": [
            "int64\n"
          ]
        }
      ]
    },
    {
      "cell_type": "code",
      "source": [
        "float_array = np.array([1, 2, 3], dtype=float)\n",
        "print(float_array.dtype)\n"
      ],
      "metadata": {
        "colab": {
          "base_uri": "https://localhost:8080/"
        },
        "id": "jt0R4jhJs2HC",
        "outputId": "1bdcd827-4088-4f64-a970-4a5b3ffc4021"
      },
      "execution_count": 7,
      "outputs": [
        {
          "output_type": "stream",
          "name": "stdout",
          "text": [
            "float64\n"
          ]
        }
      ]
    },
    {
      "cell_type": "code",
      "source": [
        "# Importance of Data Types\n",
        "\n",
        "    # Memory Management: Different data types use different amounts of memory. For example, an int64 takes more space than an int32. Choosing the right data type can significantly reduce the memory footprint of your program, especially with large datasets.\n",
        "\n",
        "    # Performance: Operations on arrays with smaller data types (like float32 instead of float64) can be faster because they require less memory bandwidth. This can lead to improved performance in calculations, particularly with large arrays.\n",
        "\n",
        "    # Precision: The choice of data type affects precision. For instance, using float32 can lead to less precision than float64. It’s important to choose the appropriate type based on the needs of your calculations."
      ],
      "metadata": {
        "id": "I7hadzMgs54-"
      },
      "execution_count": 8,
      "outputs": []
    },
    {
      "cell_type": "code",
      "source": [
        "# Q5. Define ndarrays in NumPy and explain their key features. How do they differ from standard Python lists?\n",
        "\n",
        "\n",
        "# Definition: ndarrays are powerful, multi-dimensional arrays that can hold elements of the same data type. They are a core part of the NumPy library and are optimized for performance and flexibility in numerical computing.\n",
        "\n",
        "# Key Features of ndarrays:\n",
        "\n",
        "    # N-Dimensional: Ndarrays can be one-dimensional (like a list), two-dimensional (like a matrix), or even higher dimensions (like 3D arrays). This flexibility allows for complex data structures.\n",
        "\n",
        "    # Homogeneous Data Type: All elements in an ndarray must be of the same type (e.g., all integers or all floats). This uniformity allows for optimized memory usage and performance.\n",
        "\n",
        "    # Efficient Memory Usage: Ndarrays use less memory than standard Python lists, as they store data in contiguous blocks of memory.\n",
        "\n",
        "    # Fast Operations: NumPy provides vectorized operations on ndarrays, which means you can perform calculations on entire arrays at once without explicit loops. This leads to faster execution.\n",
        "\n",
        "    # Broadcasting: Ndarrays support broadcasting, allowing you to perform operations on arrays of different shapes in a way that expands the smaller array to match the size of the larger one.\n",
        "\n",
        "    # Rich Functionality: NumPy provides a wide range of functions for mathematical operations, statistical analysis, and data manipulation specifically designed for ndarrays.\n",
        "\n",
        "# Differences from Standard Python Lists:\n",
        "\n",
        "    # Data Type Uniformity:\n",
        "        # Ndarrays: All elements must be of the same type.\n",
        "        # Python Lists: Can hold mixed data types (e.g., integers, floats, strings).\n",
        "\n",
        "    # Performance:\n",
        "        # Ndarrays: Optimized for performance and memory efficiency, especially with large datasets.\n",
        "        # Python Lists: Generally slower for numerical operations and less memory-efficient.\n",
        "\n",
        "    # Functionality:\n",
        "       # Ndarrays: Offer a wide range of built-in mathematical and statistical functions.\n",
        "        # Python Lists: Do not have built-in support for numerical operations; you would need to use loops or list comprehensions.\n",
        "\n",
        "    # Dimensions:\n",
        "        # Ndarrays: Can be multi-dimensional (2D, 3D, etc.).\n",
        "        # Python Lists: Primarily one-dimensional; while you can create lists of lists to simulate multi-dimensional arrays, it’s not as efficient."
      ],
      "metadata": {
        "id": "vVim0YF7tLzY"
      },
      "execution_count": 9,
      "outputs": []
    },
    {
      "cell_type": "code",
      "source": [
        "# Q6. Analyze the performance benefits of NumPy arrays over Python lists for large-scale numerical operations.\n",
        "\n",
        "\n",
        "# 1. Speed:\n",
        "  # Vectorization: NumPy allows you to perform operations on entire arrays at once (called vectorization) without using loops. This is much faster than iterating through each element in a Python list.\n",
        "  # Optimized C Code: NumPy is built on optimized C libraries, which means its operations are executed in compiled code. This results in significant speed improvements for mathematical calculations compared to Python’s interpreted nature.\n",
        "\n",
        "# 2. Memory Efficiency:\n",
        "  # Contiguous Memory: NumPy arrays use contiguous blocks of memory, which reduces overhead and allows for better cache performance. Python lists, on the other hand, are made up of pointers to separate objects in memory, which is less efficient.\n",
        "  # Fixed Data Type: All elements in a NumPy array have the same data type, allowing NumPy to use a smaller memory footprint compared to lists that can store mixed types.\n",
        "\n",
        "# 3. Reduced Overhead:\n",
        "  # Less Memory Overhead: NumPy arrays require less overhead than Python lists because they don’t store additional information about the elements (like types or sizes). This allows you to store larger datasets in memory.\n",
        "\n",
        "# 4. Advanced Operations\n",
        "  # Built-in Functions: NumPy provides a wide range of built-in functions optimized for performance. Operations like summing, averaging, or applying mathematical functions are much faster on NumPy arrays than on Python lists.\n",
        "  # Broadcasting: NumPy can perform operations on arrays of different shapes without requiring explicit replication of data, further enhancing efficiency.\n",
        "\n",
        "# 5. Better Support for Multi-dimensional Data\n",
        "  # N-Dimensional Support: NumPy easily handles multi-dimensional arrays (like matrices or tensors), allowing complex mathematical operations to be performed efficiently, while simulating such structures with lists can be cumbersome and slow."
      ],
      "metadata": {
        "id": "adEbGVzZtyS-"
      },
      "execution_count": 10,
      "outputs": []
    },
    {
      "cell_type": "code",
      "source": [
        "# Q7. Compare vstack() and hstack() functions in NumPy. Provide examples demonstrating their usage and output.\n",
        "\n",
        "\n",
        "# vstack() :\n",
        "  # Purpose: Stacks arrays vertically (row-wise). It combines arrays by adding rows on top of each other.\n",
        "  # Input Requirement: The arrays must have the same number of columns.\n",
        "\n",
        "# Example of vstack():\n",
        "\n",
        "import numpy as np\n",
        "array1 = np.array([[1, 2, 3],\n",
        "                   [4, 5, 6]])\n",
        "\n",
        "array2 = np.array([[7, 8, 9],\n",
        "                   [10, 11, 12]])\n",
        "\n",
        "result_vstack = np.vstack((array1, array2))\n",
        "\n",
        "print(result_vstack)"
      ],
      "metadata": {
        "colab": {
          "base_uri": "https://localhost:8080/"
        },
        "id": "5uzATNfHukqA",
        "outputId": "1cf9cc45-3e51-41ad-a59f-1196c2f98174"
      },
      "execution_count": 11,
      "outputs": [
        {
          "output_type": "stream",
          "name": "stdout",
          "text": [
            "[[ 1  2  3]\n",
            " [ 4  5  6]\n",
            " [ 7  8  9]\n",
            " [10 11 12]]\n"
          ]
        }
      ]
    },
    {
      "cell_type": "code",
      "source": [
        "# hstack() :\n",
        "  # Purpose: Stacks arrays horizontally (column-wise). It combines arrays by adding columns next to each other.\n",
        "  # Input Requirement: The arrays must have the same number of rows.\n",
        "\n",
        "# Example of hstack():\n",
        "array3 = np.array([[1, 2],\n",
        "                   [3, 4]])\n",
        "\n",
        "array4 = np.array([[5, 6],\n",
        "                   [7, 8]])\n",
        "\n",
        "result_hstack = np.hstack((array3, array4))\n",
        "\n",
        "print(result_hstack)"
      ],
      "metadata": {
        "colab": {
          "base_uri": "https://localhost:8080/"
        },
        "id": "nI1pJg8Pu6UW",
        "outputId": "3fa3f3ce-b7ef-4a5f-f50b-c381d82bcdf7"
      },
      "execution_count": 12,
      "outputs": [
        {
          "output_type": "stream",
          "name": "stdout",
          "text": [
            "[[1 2 5 6]\n",
            " [3 4 7 8]]\n"
          ]
        }
      ]
    },
    {
      "cell_type": "code",
      "source": [
        "# Q8. Explain the differences between fliplr() and flipud() methods in NumPy, including their effects on various array dimensions.\n",
        "\n",
        "\n",
        "# fliplr():\n",
        "  # Purpose: Flips an array from left to right (horizontally).\n",
        "  # Effect: It reverses the order of columns in 2D arrays.\n",
        "\n",
        "# Example of fliplr():\n",
        "import numpy as np\n",
        "\n",
        "array_2d = np.array([[1, 2, 3],\n",
        "                     [4, 5, 6]])\n",
        "\n",
        "flipped_lr = np.fliplr(array_2d)\n",
        "\n",
        "print(flipped_lr)"
      ],
      "metadata": {
        "colab": {
          "base_uri": "https://localhost:8080/"
        },
        "id": "mNn8HimFvFvL",
        "outputId": "e7f68c87-1bd1-4120-93e2-5a3f181b1096"
      },
      "execution_count": 13,
      "outputs": [
        {
          "output_type": "stream",
          "name": "stdout",
          "text": [
            "[[3 2 1]\n",
            " [6 5 4]]\n"
          ]
        }
      ]
    },
    {
      "cell_type": "code",
      "source": [
        "# flipud():\n",
        "  # Purpose: Flips an array from top to bottom (vertically).\n",
        "  # Effect: It reverses the order of rows in 2D arrays.\n",
        "\n",
        "# Example of flipud():\n",
        "flipped_ud = np.flipud(array_2d)\n",
        "print(flipped_ud)"
      ],
      "metadata": {
        "colab": {
          "base_uri": "https://localhost:8080/"
        },
        "id": "0Q8mXWcXviiC",
        "outputId": "96ed976e-8b02-47bc-cb16-362dceb2b28d"
      },
      "execution_count": 14,
      "outputs": [
        {
          "output_type": "stream",
          "name": "stdout",
          "text": [
            "[[4 5 6]\n",
            " [1 2 3]]\n"
          ]
        }
      ]
    },
    {
      "cell_type": "code",
      "source": [
        "# Effects on Different Array Dimensions:\n",
        "\n",
        "    # 2D Arrays:\n",
        "        # fliplr(): Reverses the columns.\n",
        "        # flipud(): Reverses the rows.\n",
        "\n",
        "    # 1D Arrays:\n",
        "       #  Both functions will behave the same way since there are no distinct rows or columns. They will reverse the array.\n",
        "\n",
        "# Example with 1D Array:\n",
        "array_1d = np.array([1, 2, 3, 4])\n",
        "\n",
        "flipped_lr_1d = np.fliplr(array_1d.reshape(1, -1))\n",
        "flipped_ud_1d = np.flipud(array_1d.reshape(1, -1))\n",
        "\n",
        "print(flipped_lr_1d)\n",
        "print(flipped_ud_1d)\n"
      ],
      "metadata": {
        "colab": {
          "base_uri": "https://localhost:8080/"
        },
        "id": "3TEsHTK-vyVy",
        "outputId": "ffc1044f-5606-4a41-96cd-065130c8e31f"
      },
      "execution_count": 15,
      "outputs": [
        {
          "output_type": "stream",
          "name": "stdout",
          "text": [
            "[[4 3 2 1]]\n",
            "[[1 2 3 4]]\n"
          ]
        }
      ]
    },
    {
      "cell_type": "code",
      "source": [
        "# Q9. Discuss the functionality of the array_split() method in NumPy. How does it handle uneven splits?\n",
        "\n",
        "\n",
        "# Functionality of array_split():\n",
        "\n",
        "   # Basic Usage: You can specify how many sub-arrays you want to create, and array_split() will divide the original array accordingly.\n",
        "   # Syntax: np.array_split(array, indices_or_sections)\n",
        "\n",
        "    # array: The array you want to split.\n",
        "    # indices_or_sections: The number of splits or the indices at which to split.\n",
        "\n",
        "# Handling Uneven Splits : One of the key features of array_split() is its ability to handle uneven splits. When the total number of elements in the array isn’t evenly divisible by the number of splits you want, array_split() will distribute the elements as evenly as possible.\n",
        "\n",
        "    # Extra Elements: If there are leftover elements, some of the sub-arrays will receive one extra element.\n",
        "\n",
        "# Example of array_split():\n",
        "import numpy as np\n",
        "array = np.array([1, 2, 3, 4, 5, 6, 7])\n",
        "split_arrays = np.array_split(array, 3)\n",
        "print(split_arrays)"
      ],
      "metadata": {
        "colab": {
          "base_uri": "https://localhost:8080/"
        },
        "id": "AJ1nRZvOwDuN",
        "outputId": "f70f5645-d3e3-4c74-bea4-1352696e54a5"
      },
      "execution_count": 17,
      "outputs": [
        {
          "output_type": "stream",
          "name": "stdout",
          "text": [
            "[array([1, 2, 3]), array([4, 5]), array([6, 7])]\n"
          ]
        }
      ]
    },
    {
      "cell_type": "code",
      "source": [
        "# In this example:\n",
        "  # The original array has 7 elements.\n",
        "  # When split into 3 parts, the first sub-array gets 3 elements, and the next two get 2 elements each."
      ],
      "metadata": {
        "id": "Ornf_toww5Yv"
      },
      "execution_count": 18,
      "outputs": []
    },
    {
      "cell_type": "code",
      "source": [
        "# Q10. . Explain the concepts of vectorization and broadcasting in NumPy. How do they contribute to efficient array operations?\n",
        "\n",
        "\n",
        "# Vectorization:\n",
        "\n",
        "# Definition: Vectorization refers to the ability to perform operations on entire arrays (or large chunks of data) at once, instead of using loops to process each element individually.\n",
        "\n",
        "# How it Works:\n",
        "\n",
        "    # When you perform operations on NumPy arrays, you can apply mathematical functions to entire arrays without needing to write explicit loops.\n",
        "    # NumPy handles the underlying complexity in optimized C code, which makes these operations much faster.\n",
        "\n",
        "# Example of Vectorization:\n",
        "import numpy as np\n",
        "a = np.array([1, 2, 3])\n",
        "b = np.array([4, 5, 6])\n",
        "result = a + b\n",
        "print(result)\n"
      ],
      "metadata": {
        "colab": {
          "base_uri": "https://localhost:8080/"
        },
        "id": "d7S5N8BBxFVE",
        "outputId": "3c8d1484-57f3-4fa0-da6f-ef35dba5968a"
      },
      "execution_count": 19,
      "outputs": [
        {
          "output_type": "stream",
          "name": "stdout",
          "text": [
            "[5 7 9]\n"
          ]
        }
      ]
    },
    {
      "cell_type": "code",
      "source": [
        "# Broadcasting :\n",
        "\n",
        "# Definition: Broadcasting allows NumPy to perform operations on arrays of different shapes in a way that makes them compatible for arithmetic operations.\n",
        "\n",
        "# How it Works:\n",
        "\n",
        "    # When you perform operations between arrays of different shapes, NumPy automatically expands the smaller array to match the shape of the larger array, without actually copying the data.\n",
        "    # This means you can easily add a scalar to an entire array or add two arrays of different shapes.\n",
        "\n",
        "# Example of Broadcasting:\n",
        "array = np.array([1, 2, 3])\n",
        "result = array + 5\n",
        "print(result)\n",
        "array_2d = np.array([[1, 2, 3],\n",
        "                     [4, 5, 6]])\n",
        "\n",
        "result_broadcast = array_2d + array\n",
        "print(result_broadcast)"
      ],
      "metadata": {
        "colab": {
          "base_uri": "https://localhost:8080/"
        },
        "id": "wPtgBuGjxlPF",
        "outputId": "339e0933-1edd-4b43-c59a-a5016b40234d"
      },
      "execution_count": 20,
      "outputs": [
        {
          "output_type": "stream",
          "name": "stdout",
          "text": [
            "[6 7 8]\n",
            "[[2 4 6]\n",
            " [5 7 9]]\n"
          ]
        }
      ]
    },
    {
      "cell_type": "code",
      "source": [
        "# Contribution to Efficiency\n",
        "\n",
        "    # Reduced Loop Overhead: Vectorization eliminates the need for explicit loops, which not only simplifies the code but also speeds up execution.\n",
        "\n",
        "    # Optimized Performance: Both vectorization and broadcasting leverage low-level optimizations in NumPy, which are generally much faster than equivalent Python operations.\n",
        "\n",
        "    # Simplified Code: They allow for clearer, more concise code, making it easier to read and maintain."
      ],
      "metadata": {
        "id": "pnX-AY0ix4bm"
      },
      "execution_count": 21,
      "outputs": []
    }
  ]
}